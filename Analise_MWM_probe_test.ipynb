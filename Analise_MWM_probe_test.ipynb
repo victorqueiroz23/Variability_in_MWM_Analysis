{
 "cells": [
  {
   "cell_type": "markdown",
   "metadata": {},
   "source": [
    "#### Importando bibliotecas"
   ]
  },
  {
   "cell_type": "code",
   "execution_count": 69,
   "metadata": {},
   "outputs": [],
   "source": [
    "import pandas as pd\n",
    "import random as rm\n",
    "import numpy as np\n",
    "from scipy.stats import ttest_ind as tt\n",
    "import matplotlib.pyplot as plt"
   ]
  },
  {
   "cell_type": "markdown",
   "metadata": {},
   "source": [
    "### Abrindo o arquivo do probe test"
   ]
  },
  {
   "cell_type": "code",
   "execution_count": 124,
   "metadata": {},
   "outputs": [
    {
     "data": {
      "text/html": [
       "<div>\n",
       "<style scoped>\n",
       "    .dataframe tbody tr th:only-of-type {\n",
       "        vertical-align: middle;\n",
       "    }\n",
       "\n",
       "    .dataframe tbody tr th {\n",
       "        vertical-align: top;\n",
       "    }\n",
       "\n",
       "    .dataframe thead th {\n",
       "        text-align: right;\n",
       "    }\n",
       "</style>\n",
       "<table border=\"1\" class=\"dataframe\">\n",
       "  <thead>\n",
       "    <tr style=\"text-align: right;\">\n",
       "      <th></th>\n",
       "      <th>Test</th>\n",
       "      <th>Animal</th>\n",
       "      <th>Experiment</th>\n",
       "      <th>Stage</th>\n",
       "      <th>Trial</th>\n",
       "      <th>P4_tget_latency_to_first_entry</th>\n",
       "      <th>Distance.m.</th>\n",
       "      <th>Path_efficiency</th>\n",
       "      <th>Q1_entries</th>\n",
       "      <th>Q1_time</th>\n",
       "      <th>...</th>\n",
       "      <th>Q4_tget_time</th>\n",
       "      <th>Q4_tget_distance</th>\n",
       "      <th>Q4_tget_latency_to_first_entry</th>\n",
       "      <th>Q4_tget_mean_visit</th>\n",
       "      <th>P4_tget_entries</th>\n",
       "      <th>P4_tget_mean_distance_from</th>\n",
       "      <th>P4_tget_time_getting_closer_to_zone</th>\n",
       "      <th>Q4_Pecent_time</th>\n",
       "      <th>P4_time_getting_closer</th>\n",
       "      <th>Fake_crossings_P1.P2.P3</th>\n",
       "    </tr>\n",
       "  </thead>\n",
       "  <tbody>\n",
       "    <tr>\n",
       "      <th>0</th>\n",
       "      <td>296</td>\n",
       "      <td>23</td>\n",
       "      <td>4</td>\n",
       "      <td>5</td>\n",
       "      <td>1</td>\n",
       "      <td>39,1</td>\n",
       "      <td>18,113</td>\n",
       "      <td>0,042</td>\n",
       "      <td>10</td>\n",
       "      <td>14,4</td>\n",
       "      <td>...</td>\n",
       "      <td>26,9</td>\n",
       "      <td>7,976</td>\n",
       "      <td>1,7</td>\n",
       "      <td>1,8</td>\n",
       "      <td>1</td>\n",
       "      <td>0,231</td>\n",
       "      <td>30,5</td>\n",
       "      <td>45</td>\n",
       "      <td>51</td>\n",
       "      <td>1,00</td>\n",
       "    </tr>\n",
       "    <tr>\n",
       "      <th>1</th>\n",
       "      <td>82</td>\n",
       "      <td>37</td>\n",
       "      <td>7</td>\n",
       "      <td>5</td>\n",
       "      <td>1</td>\n",
       "      <td>1,7</td>\n",
       "      <td>17,918</td>\n",
       "      <td>0,021</td>\n",
       "      <td>6</td>\n",
       "      <td>12,2</td>\n",
       "      <td>...</td>\n",
       "      <td>28,6</td>\n",
       "      <td>8,435</td>\n",
       "      <td>1,1</td>\n",
       "      <td>4,1</td>\n",
       "      <td>4</td>\n",
       "      <td>0,280</td>\n",
       "      <td>28,7</td>\n",
       "      <td>48</td>\n",
       "      <td>48</td>\n",
       "      <td>2,00</td>\n",
       "    </tr>\n",
       "    <tr>\n",
       "      <th>2</th>\n",
       "      <td>84</td>\n",
       "      <td>39</td>\n",
       "      <td>7</td>\n",
       "      <td>5</td>\n",
       "      <td>1</td>\n",
       "      <td>NaN</td>\n",
       "      <td>17,469</td>\n",
       "      <td>0,040</td>\n",
       "      <td>7</td>\n",
       "      <td>12,1</td>\n",
       "      <td>...</td>\n",
       "      <td>18,9</td>\n",
       "      <td>5,399</td>\n",
       "      <td>1,0</td>\n",
       "      <td>2,4</td>\n",
       "      <td>0</td>\n",
       "      <td>0,338</td>\n",
       "      <td>29,9</td>\n",
       "      <td>32</td>\n",
       "      <td>50</td>\n",
       "      <td>3,00</td>\n",
       "    </tr>\n",
       "    <tr>\n",
       "      <th>3</th>\n",
       "      <td>232</td>\n",
       "      <td>28</td>\n",
       "      <td>5</td>\n",
       "      <td>5</td>\n",
       "      <td>1</td>\n",
       "      <td>NaN</td>\n",
       "      <td>17,394</td>\n",
       "      <td>0,050</td>\n",
       "      <td>8</td>\n",
       "      <td>13,3</td>\n",
       "      <td>...</td>\n",
       "      <td>19,1</td>\n",
       "      <td>5,522</td>\n",
       "      <td>6,9</td>\n",
       "      <td>2,4</td>\n",
       "      <td>0</td>\n",
       "      <td>0,334</td>\n",
       "      <td>31,7</td>\n",
       "      <td>32</td>\n",
       "      <td>53</td>\n",
       "      <td>3,00</td>\n",
       "    </tr>\n",
       "    <tr>\n",
       "      <th>4</th>\n",
       "      <td>298</td>\n",
       "      <td>25</td>\n",
       "      <td>4</td>\n",
       "      <td>5</td>\n",
       "      <td>1</td>\n",
       "      <td>25,5</td>\n",
       "      <td>16,746</td>\n",
       "      <td>0,046</td>\n",
       "      <td>6</td>\n",
       "      <td>9,5</td>\n",
       "      <td>...</td>\n",
       "      <td>35,2</td>\n",
       "      <td>9,665</td>\n",
       "      <td>1,9</td>\n",
       "      <td>3,2</td>\n",
       "      <td>3</td>\n",
       "      <td>0,200</td>\n",
       "      <td>31,2</td>\n",
       "      <td>59</td>\n",
       "      <td>52</td>\n",
       "      <td>2,00</td>\n",
       "    </tr>\n",
       "  </tbody>\n",
       "</table>\n",
       "<p>5 rows × 31 columns</p>\n",
       "</div>"
      ],
      "text/plain": [
       "   Test  Animal  Experiment  Stage  Trial P4_tget_latency_to_first_entry  \\\n",
       "0   296      23           4      5      1                           39,1   \n",
       "1    82      37           7      5      1                            1,7   \n",
       "2    84      39           7      5      1                            NaN   \n",
       "3   232      28           5      5      1                            NaN   \n",
       "4   298      25           4      5      1                           25,5   \n",
       "\n",
       "  Distance.m. Path_efficiency  Q1_entries Q1_time  ... Q4_tget_time  \\\n",
       "0      18,113           0,042          10    14,4  ...         26,9   \n",
       "1      17,918           0,021           6    12,2  ...         28,6   \n",
       "2      17,469           0,040           7    12,1  ...         18,9   \n",
       "3      17,394           0,050           8    13,3  ...         19,1   \n",
       "4      16,746           0,046           6     9,5  ...         35,2   \n",
       "\n",
       "  Q4_tget_distance  Q4_tget_latency_to_first_entry Q4_tget_mean_visit  \\\n",
       "0            7,976                             1,7                1,8   \n",
       "1            8,435                             1,1                4,1   \n",
       "2            5,399                             1,0                2,4   \n",
       "3            5,522                             6,9                2,4   \n",
       "4            9,665                             1,9                3,2   \n",
       "\n",
       "  P4_tget_entries P4_tget_mean_distance_from  \\\n",
       "0               1                      0,231   \n",
       "1               4                      0,280   \n",
       "2               0                      0,338   \n",
       "3               0                      0,334   \n",
       "4               3                      0,200   \n",
       "\n",
       "   P4_tget_time_getting_closer_to_zone Q4_Pecent_time P4_time_getting_closer  \\\n",
       "0                                 30,5             45                     51   \n",
       "1                                 28,7             48                     48   \n",
       "2                                 29,9             32                     50   \n",
       "3                                 31,7             32                     53   \n",
       "4                                 31,2             59                     52   \n",
       "\n",
       "  Fake_crossings_P1.P2.P3  \n",
       "0                    1,00  \n",
       "1                    2,00  \n",
       "2                    3,00  \n",
       "3                    3,00  \n",
       "4                    2,00  \n",
       "\n",
       "[5 rows x 31 columns]"
      ]
     },
     "execution_count": 124,
     "metadata": {},
     "output_type": "execute_result"
    }
   ],
   "source": [
    "arq = 'anymaze_results_probetest.csv'\n",
    "df = pd.read_csv(arq)\n",
    "df.head()"
   ]
  },
  {
   "cell_type": "code",
   "execution_count": 26,
   "metadata": {},
   "outputs": [
    {
     "data": {
      "text/html": [
       "<div>\n",
       "<style scoped>\n",
       "    .dataframe tbody tr th:only-of-type {\n",
       "        vertical-align: middle;\n",
       "    }\n",
       "\n",
       "    .dataframe tbody tr th {\n",
       "        vertical-align: top;\n",
       "    }\n",
       "\n",
       "    .dataframe thead th {\n",
       "        text-align: right;\n",
       "    }\n",
       "</style>\n",
       "<table border=\"1\" class=\"dataframe\">\n",
       "  <thead>\n",
       "    <tr style=\"text-align: right;\">\n",
       "      <th></th>\n",
       "      <th>Test</th>\n",
       "      <th>Animal</th>\n",
       "      <th>Experiment</th>\n",
       "      <th>Stage</th>\n",
       "      <th>Trial</th>\n",
       "      <th>P4_tget_latency_to_first_entry</th>\n",
       "      <th>Distance.m.</th>\n",
       "      <th>Path_efficiency</th>\n",
       "      <th>Q1_entries</th>\n",
       "      <th>Q1_time</th>\n",
       "      <th>...</th>\n",
       "      <th>Q4_tget_time</th>\n",
       "      <th>Q4_tget_distance</th>\n",
       "      <th>Q4_tget_latency_to_first_entry</th>\n",
       "      <th>Q4_tget_mean_visit</th>\n",
       "      <th>P4_tget_entries</th>\n",
       "      <th>P4_tget_mean_distance_from</th>\n",
       "      <th>P4_tget_time_getting_closer_to_zone</th>\n",
       "      <th>Q4_Pecent_time</th>\n",
       "      <th>P4_time_getting_closer</th>\n",
       "      <th>Fake_crossings_P1.P2.P3</th>\n",
       "    </tr>\n",
       "  </thead>\n",
       "  <tbody>\n",
       "    <tr>\n",
       "      <th>0</th>\n",
       "      <td>296</td>\n",
       "      <td>23</td>\n",
       "      <td>4</td>\n",
       "      <td>5</td>\n",
       "      <td>1</td>\n",
       "      <td>39,1</td>\n",
       "      <td>18,113</td>\n",
       "      <td>0,042</td>\n",
       "      <td>10</td>\n",
       "      <td>14,4</td>\n",
       "      <td>...</td>\n",
       "      <td>26,9</td>\n",
       "      <td>7,976</td>\n",
       "      <td>1,7</td>\n",
       "      <td>1,8</td>\n",
       "      <td>1</td>\n",
       "      <td>0,231</td>\n",
       "      <td>30,5</td>\n",
       "      <td>45</td>\n",
       "      <td>51</td>\n",
       "      <td>1,00</td>\n",
       "    </tr>\n",
       "    <tr>\n",
       "      <th>1</th>\n",
       "      <td>82</td>\n",
       "      <td>37</td>\n",
       "      <td>7</td>\n",
       "      <td>5</td>\n",
       "      <td>1</td>\n",
       "      <td>1,7</td>\n",
       "      <td>17,918</td>\n",
       "      <td>0,021</td>\n",
       "      <td>6</td>\n",
       "      <td>12,2</td>\n",
       "      <td>...</td>\n",
       "      <td>28,6</td>\n",
       "      <td>8,435</td>\n",
       "      <td>1,1</td>\n",
       "      <td>4,1</td>\n",
       "      <td>4</td>\n",
       "      <td>0,280</td>\n",
       "      <td>28,7</td>\n",
       "      <td>48</td>\n",
       "      <td>48</td>\n",
       "      <td>2,00</td>\n",
       "    </tr>\n",
       "    <tr>\n",
       "      <th>2</th>\n",
       "      <td>84</td>\n",
       "      <td>39</td>\n",
       "      <td>7</td>\n",
       "      <td>5</td>\n",
       "      <td>1</td>\n",
       "      <td>NaN</td>\n",
       "      <td>17,469</td>\n",
       "      <td>0,040</td>\n",
       "      <td>7</td>\n",
       "      <td>12,1</td>\n",
       "      <td>...</td>\n",
       "      <td>18,9</td>\n",
       "      <td>5,399</td>\n",
       "      <td>1,0</td>\n",
       "      <td>2,4</td>\n",
       "      <td>0</td>\n",
       "      <td>0,338</td>\n",
       "      <td>29,9</td>\n",
       "      <td>32</td>\n",
       "      <td>50</td>\n",
       "      <td>3,00</td>\n",
       "    </tr>\n",
       "    <tr>\n",
       "      <th>3</th>\n",
       "      <td>232</td>\n",
       "      <td>28</td>\n",
       "      <td>5</td>\n",
       "      <td>5</td>\n",
       "      <td>1</td>\n",
       "      <td>NaN</td>\n",
       "      <td>17,394</td>\n",
       "      <td>0,050</td>\n",
       "      <td>8</td>\n",
       "      <td>13,3</td>\n",
       "      <td>...</td>\n",
       "      <td>19,1</td>\n",
       "      <td>5,522</td>\n",
       "      <td>6,9</td>\n",
       "      <td>2,4</td>\n",
       "      <td>0</td>\n",
       "      <td>0,334</td>\n",
       "      <td>31,7</td>\n",
       "      <td>32</td>\n",
       "      <td>53</td>\n",
       "      <td>3,00</td>\n",
       "    </tr>\n",
       "    <tr>\n",
       "      <th>4</th>\n",
       "      <td>298</td>\n",
       "      <td>25</td>\n",
       "      <td>4</td>\n",
       "      <td>5</td>\n",
       "      <td>1</td>\n",
       "      <td>25,5</td>\n",
       "      <td>16,746</td>\n",
       "      <td>0,046</td>\n",
       "      <td>6</td>\n",
       "      <td>9,5</td>\n",
       "      <td>...</td>\n",
       "      <td>35,2</td>\n",
       "      <td>9,665</td>\n",
       "      <td>1,9</td>\n",
       "      <td>3,2</td>\n",
       "      <td>3</td>\n",
       "      <td>0,200</td>\n",
       "      <td>31,2</td>\n",
       "      <td>59</td>\n",
       "      <td>52</td>\n",
       "      <td>2,00</td>\n",
       "    </tr>\n",
       "  </tbody>\n",
       "</table>\n",
       "<p>5 rows × 31 columns</p>\n",
       "</div>"
      ],
      "text/plain": [
       "   Test  Animal  Experiment  Stage  Trial P4_tget_latency_to_first_entry  \\\n",
       "0   296      23           4      5      1                           39,1   \n",
       "1    82      37           7      5      1                            1,7   \n",
       "2    84      39           7      5      1                            NaN   \n",
       "3   232      28           5      5      1                            NaN   \n",
       "4   298      25           4      5      1                           25,5   \n",
       "\n",
       "  Distance.m. Path_efficiency  Q1_entries Q1_time  ... Q4_tget_time  \\\n",
       "0      18,113           0,042          10    14,4  ...         26,9   \n",
       "1      17,918           0,021           6    12,2  ...         28,6   \n",
       "2      17,469           0,040           7    12,1  ...         18,9   \n",
       "3      17,394           0,050           8    13,3  ...         19,1   \n",
       "4      16,746           0,046           6     9,5  ...         35,2   \n",
       "\n",
       "  Q4_tget_distance  Q4_tget_latency_to_first_entry Q4_tget_mean_visit  \\\n",
       "0            7,976                             1,7                1,8   \n",
       "1            8,435                             1,1                4,1   \n",
       "2            5,399                             1,0                2,4   \n",
       "3            5,522                             6,9                2,4   \n",
       "4            9,665                             1,9                3,2   \n",
       "\n",
       "  P4_tget_entries P4_tget_mean_distance_from  \\\n",
       "0               1                      0,231   \n",
       "1               4                      0,280   \n",
       "2               0                      0,338   \n",
       "3               0                      0,334   \n",
       "4               3                      0,200   \n",
       "\n",
       "   P4_tget_time_getting_closer_to_zone Q4_Pecent_time P4_time_getting_closer  \\\n",
       "0                                 30,5             45                     51   \n",
       "1                                 28,7             48                     48   \n",
       "2                                 29,9             32                     50   \n",
       "3                                 31,7             32                     53   \n",
       "4                                 31,2             59                     52   \n",
       "\n",
       "  Fake_crossings_P1.P2.P3  \n",
       "0                    1,00  \n",
       "1                    2,00  \n",
       "2                    3,00  \n",
       "3                    3,00  \n",
       "4                    2,00  \n",
       "\n",
       "[5 rows x 31 columns]"
      ]
     },
     "execution_count": 26,
     "metadata": {},
     "output_type": "execute_result"
    }
   ],
   "source": [
    "df_manip = df\n",
    "df_manip.head()"
   ]
  },
  {
   "cell_type": "code",
   "execution_count": 126,
   "metadata": {},
   "outputs": [],
   "source": [
    "lista_q1_entries = []\n",
    "for i in range(0,100):\n",
    "    q1_entries_aleat = choices(df_manip['Q1_entries'], k = 10)\n",
    "    for numero in q1_entries_aleat:\n",
    "        numero = int(numero)\n",
    "    # print(q1_entries_aleat)\n",
    "    lista_q1_entries.append(q1_entries_aleat)\n",
    "array = np.array(lista_q1_entries)\n",
    "# print(array)"
   ]
  },
  {
   "cell_type": "code",
   "execution_count": 137,
   "metadata": {},
   "outputs": [
    {
     "name": "stdout",
     "output_type": "stream",
     "text": [
      "Teste de número 8 - pvalue = 0.025025797899835715\n",
      "Grupo 1 (valores): [3, 1, 4, 8, 4, 1, 6, 6, 0, 7]\n",
      "Média do grupo 1: 4.0\n",
      "Grupo 2 (valores): [0, 6, 8, 10, 8, 8, 11, 3, 10, 11]\n",
      "Média do grupo 1: 7.5 \n",
      "\n"
     ]
    },
    {
     "data": {
      "image/png": "[encoded data removed]",
      "text/plain": [
       "<Figure size 432x288 with 1 Axes>"
      ]
     },
     "metadata": {
      "needs_background": "light"
     },
     "output_type": "display_data"
    },
    {
     "name": "stdout",
     "output_type": "stream",
     "text": [
      "\n",
      "\n",
      "\n",
      "Teste de número 37 - pvalue = 0.032294933361117155\n",
      "Grupo 1 (valores): [0, 3, 0, 1, 10, 3, 6, 4, 7, 1]\n",
      "Média do grupo 1: 3.5\n",
      "Grupo 2 (valores): [8, 11, 7, 8, 5, 4, 1, 7, 6, 11]\n",
      "Média do grupo 1: 6.8 \n",
      "\n"
     ]
    },
    {
     "data": {
      "image/png": "[encoded data removed]",
      "text/plain": [
       "<Figure size 432x288 with 1 Axes>"
      ]
     },
     "metadata": {
      "needs_background": "light"
     },
     "output_type": "display_data"
    },
    {
     "name": "stdout",
     "output_type": "stream",
     "text": [
      "\n",
      "\n",
      "\n",
      "Teste de número 109 - pvalue = 0.04110858739636434\n",
      "Grupo 1 (valores): [11, 2, 6, 1, 4, 4, 1, 4, 1, 4]\n",
      "Média do grupo 1: 3.8\n",
      "Grupo 2 (valores): [8, 4, 8, 6, 5, 8, 1, 14, 6, 11]\n",
      "Média do grupo 1: 7.1 \n",
      "\n"
     ]
    },
    {
     "data": {
      "image/png": "[encoded data removed]",
      "text/plain": [
       "<Figure size 432x288 with 1 Axes>"
      ]
     },
     "metadata": {
      "needs_background": "light"
     },
     "output_type": "display_data"
    },
    {
     "name": "stdout",
     "output_type": "stream",
     "text": [
      "\n",
      "\n",
      "\n",
      "Teste de número 123 - pvalue = 0.005250106663137469\n",
      "Grupo 1 (valores): [6, 8, 1, 1, 3, 3, 2, 4, 0, 1]\n",
      "Média do grupo 1: 2.9\n",
      "Grupo 2 (valores): [14, 10, 6, 2, 2, 6, 11, 11, 8, 6]\n",
      "Média do grupo 1: 7.6 \n",
      "\n"
     ]
    },
    {
     "data": {
      "image/png": "[encoded data removed]",
      "text/plain": [
       "<Figure size 432x288 with 1 Axes>"
      ]
     },
     "metadata": {
      "needs_background": "light"
     },
     "output_type": "display_data"
    },
    {
     "name": "stdout",
     "output_type": "stream",
     "text": [
      "\n",
      "\n",
      "\n",
      "Teste de número 138 - pvalue = 0.012726619735036802\n",
      "Grupo 1 (valores): [6, 6, 10, 8, 2, 14, 10, 3, 4, 4]\n",
      "Média do grupo 1: 6.7\n",
      "Grupo 2 (valores): [0, 2, 1, 6, 4, 1, 1, 8, 3, 1]\n",
      "Média do grupo 1: 2.7 \n",
      "\n"
     ]
    },
    {
     "data": {
      "image/png": "[encoded data removed]",
      "text/plain": [
       "<Figure size 432x288 with 1 Axes>"
      ]
     },
     "metadata": {
      "needs_background": "light"
     },
     "output_type": "display_data"
    },
    {
     "name": "stdout",
     "output_type": "stream",
     "text": [
      "\n",
      "\n",
      "\n",
      "Teste de número 197 - pvalue = 0.027404539402748927\n",
      "Grupo 1 (valores): [6, 6, 5, 2, 3, 2, 1, 0, 3, 7]\n",
      "Média do grupo 1: 3.5\n",
      "Grupo 2 (valores): [4, 6, 1, 1, 8, 10, 10, 10, 8, 10]\n",
      "Média do grupo 1: 6.8 \n",
      "\n"
     ]
    },
    {
     "data": {
      "image/png": "[encoded data removed]",
      "text/plain": [
       "<Figure size 432x288 with 1 Axes>"
      ]
     },
     "metadata": {
      "needs_background": "light"
     },
     "output_type": "display_data"
    },
    {
     "name": "stdout",
     "output_type": "stream",
     "text": [
      "\n",
      "\n",
      "\n",
      "Teste de número 203 - pvalue = 0.011458294578656688\n",
      "Grupo 1 (valores): [14, 10, 6, 2, 2, 6, 11, 11, 8, 6]\n",
      "Média do grupo 1: 7.6\n",
      "Grupo 2 (valores): [6, 6, 5, 2, 3, 2, 1, 0, 3, 7]\n",
      "Média do grupo 1: 3.5 \n",
      "\n"
     ]
    },
    {
     "data": {
      "image/png": "[encoded data removed]",
      "text/plain": [
       "<Figure size 432x288 with 1 Axes>"
      ]
     },
     "metadata": {
      "needs_background": "light"
     },
     "output_type": "display_data"
    },
    {
     "name": "stdout",
     "output_type": "stream",
     "text": [
      "\n",
      "\n",
      "\n",
      "Teste de número 216 - pvalue = 0.023001917522168826\n",
      "Grupo 1 (valores): [2, 6, 2, 6, 4, 0, 7, 8, 2, 3]\n",
      "Média do grupo 1: 4.0\n",
      "Grupo 2 (valores): [0, 6, 8, 10, 8, 8, 11, 3, 10, 11]\n",
      "Média do grupo 1: 7.5 \n",
      "\n"
     ]
    },
    {
     "data": {
      "image/png": "[encoded data removed]",
      "text/plain": [
       "<Figure size 432x288 with 1 Axes>"
      ]
     },
     "metadata": {
      "needs_background": "light"
     },
     "output_type": "display_data"
    },
    {
     "name": "stdout",
     "output_type": "stream",
     "text": [
      "\n",
      "\n",
      "\n",
      "Teste de número 226 - pvalue = 0.019941941834334252\n",
      "Grupo 1 (valores): [4, 4, 4, 7, 6, 4, 5, 6, 11, 6]\n",
      "Média do grupo 1: 5.7\n",
      "Grupo 2 (valores): [4, 2, 1, 4, 0, 10, 0, 4, 1, 1]\n",
      "Média do grupo 1: 2.7 \n",
      "\n"
     ]
    },
    {
     "data": {
      "image/png": "[encoded data removed]",
      "text/plain": [
       "<Figure size 432x288 with 1 Axes>"
      ]
     },
     "metadata": {
      "needs_background": "light"
     },
     "output_type": "display_data"
    },
    {
     "name": "stdout",
     "output_type": "stream",
     "text": [
      "\n",
      "\n",
      "\n",
      "Teste de número 264 - pvalue = 0.016030320540302127\n",
      "Grupo 1 (valores): [2, 8, 6, 3, 6, 3, 7, 6, 3, 1]\n",
      "Média do grupo 1: 4.5\n",
      "Grupo 2 (valores): [1, 1, 5, 1, 1, 4, 3, 2, 0, 3]\n",
      "Média do grupo 1: 2.1 \n",
      "\n"
     ]
    },
    {
     "data": {
      "image/png": "[encoded data removed]",
      "text/plain": [
       "<Figure size 432x288 with 1 Axes>"
      ]
     },
     "metadata": {
      "needs_background": "light"
     },
     "output_type": "display_data"
    },
    {
     "name": "stdout",
     "output_type": "stream",
     "text": [
      "\n",
      "\n",
      "\n",
      "Teste de número 280 - pvalue = 0.02422821499078659\n",
      "Grupo 1 (valores): [6, 8, 1, 1, 3, 3, 2, 4, 0, 1]\n",
      "Média do grupo 1: 2.9\n",
      "Grupo 2 (valores): [4, 5, 8, 10, 6, 6, 10, 1, 2, 8]\n",
      "Média do grupo 1: 6.0 \n",
      "\n"
     ]
    },
    {
     "data": {
      "image/png": "[encoded data removed]",
      "text/plain": [
       "<Figure size 432x288 with 1 Axes>"
      ]
     },
     "metadata": {
      "needs_background": "light"
     },
     "output_type": "display_data"
    },
    {
     "name": "stdout",
     "output_type": "stream",
     "text": [
      "\n",
      "\n",
      "\n",
      "Teste de número 291 - pvalue = 0.00591534332272051\n",
      "Grupo 1 (valores): [0, 2, 1, 6, 4, 1, 1, 8, 3, 1]\n",
      "Média do grupo 1: 2.7\n",
      "Grupo 2 (valores): [8, 4, 8, 6, 5, 8, 1, 14, 6, 11]\n",
      "Média do grupo 1: 7.1 \n",
      "\n"
     ]
    },
    {
     "data": {
      "image/png": "[encoded data removed]",
      "text/plain": [
       "<Figure size 432x288 with 1 Axes>"
      ]
     },
     "metadata": {
      "needs_background": "light"
     },
     "output_type": "display_data"
    },
    {
     "name": "stdout",
     "output_type": "stream",
     "text": [
      "\n",
      "\n",
      "\n",
      "Teste de número 297 - pvalue = 0.017449805750469387\n",
      "Grupo 1 (valores): [6, 6, 10, 8, 2, 14, 10, 3, 4, 4]\n",
      "Média do grupo 1: 6.7\n",
      "Grupo 2 (valores): [4, 2, 1, 4, 0, 10, 0, 4, 1, 1]\n",
      "Média do grupo 1: 2.7 \n",
      "\n"
     ]
    },
    {
     "data": {
      "image/png": "[encoded data removed]",
      "text/plain": [
       "<Figure size 432x288 with 1 Axes>"
      ]
     },
     "metadata": {
      "needs_background": "light"
     },
     "output_type": "display_data"
    },
    {
     "name": "stdout",
     "output_type": "stream",
     "text": [
      "\n",
      "\n",
      "\n",
      "Teste de número 332 - pvalue = 0.0309995614883729\n",
      "Grupo 1 (valores): [3, 4, 0, 14, 2, 7, 2, 10, 4, 11]\n",
      "Média do grupo 1: 5.7\n",
      "Grupo 2 (valores): [1, 1, 5, 1, 1, 4, 3, 2, 0, 3]\n",
      "Média do grupo 1: 2.1 \n",
      "\n"
     ]
    },
    {
     "data": {
      "image/png": "[encoded data removed]",
      "text/plain": [
       "<Figure size 432x288 with 1 Axes>"
      ]
     },
     "metadata": {
      "needs_background": "light"
     },
     "output_type": "display_data"
    },
    {
     "name": "stdout",
     "output_type": "stream",
     "text": [
      "\n",
      "\n",
      "\n",
      "Teste de número 358 - pvalue = 0.019232720985215696\n",
      "Grupo 1 (valores): [0, 6, 8, 10, 8, 8, 11, 3, 10, 11]\n",
      "Média do grupo 1: 7.5\n",
      "Grupo 2 (valores): [1, 2, 5, 1, 6, 6, 1, 8, 0, 7]\n",
      "Média do grupo 1: 3.7 \n",
      "\n"
     ]
    },
    {
     "data": {
      "image/png": "[encoded data removed]",
      "text/plain": [
       "<Figure size 432x288 with 1 Axes>"
      ]
     },
     "metadata": {
      "needs_background": "light"
     },
     "output_type": "display_data"
    },
    {
     "name": "stdout",
     "output_type": "stream",
     "text": [
      "\n",
      "\n",
      "\n",
      "Teste de número 387 - pvalue = 0.04814887928802409\n",
      "Grupo 1 (valores): [2, 7, 0, 3, 3, 6, 1, 6, 3, 6]\n",
      "Média do grupo 1: 3.7\n",
      "Grupo 2 (valores): [6, 6, 10, 8, 2, 14, 10, 3, 4, 4]\n",
      "Média do grupo 1: 6.7 \n",
      "\n"
     ]
    },
    {
     "data": {
      "image/png": "[encoded data removed]",
      "text/plain": [
       "<Figure size 432x288 with 1 Axes>"
      ]
     },
     "metadata": {
      "needs_background": "light"
     },
     "output_type": "display_data"
    },
    {
     "name": "stdout",
     "output_type": "stream",
     "text": [
      "\n",
      "\n",
      "\n",
      "Teste de número 441 - pvalue = 0.004497452808166666\n",
      "Grupo 1 (valores): [0, 2, 1, 6, 4, 1, 1, 8, 3, 1]\n",
      "Média do grupo 1: 2.7\n",
      "Grupo 2 (valores): [8, 11, 7, 8, 5, 4, 1, 7, 6, 11]\n",
      "Média do grupo 1: 6.8 \n",
      "\n"
     ]
    },
    {
     "data": {
      "image/png": "[encoded data removed]",
      "text/plain": [
       "<Figure size 432x288 with 1 Axes>"
      ]
     },
     "metadata": {
      "needs_background": "light"
     },
     "output_type": "display_data"
    },
    {
     "name": "stdout",
     "output_type": "stream",
     "text": [
      "\n",
      "\n",
      "\n",
      "Teste de número 486 - pvalue = 0.023001917522168826\n",
      "Grupo 1 (valores): [0, 6, 8, 10, 8, 8, 11, 3, 10, 11]\n",
      "Média do grupo 1: 7.5\n",
      "Grupo 2 (valores): [2, 6, 2, 6, 4, 0, 7, 8, 2, 3]\n",
      "Média do grupo 1: 4.0 \n",
      "\n"
     ]
    },
    {
     "data": {
      "image/png": "[encoded data removed]",
      "text/plain": [
       "<Figure size 432x288 with 1 Axes>"
      ]
     },
     "metadata": {
      "needs_background": "light"
     },
     "output_type": "display_data"
    },
    {
     "name": "stdout",
     "output_type": "stream",
     "text": [
      "\n",
      "\n",
      "\n",
      "Teste de número 491 - pvalue = 0.04817557417240958\n",
      "Grupo 1 (valores): [4, 6, 1, 1, 8, 10, 10, 10, 8, 10]\n",
      "Média do grupo 1: 6.8\n",
      "Grupo 2 (valores): [0, 3, 0, 1, 10, 3, 6, 4, 7, 1]\n",
      "Média do grupo 1: 3.5 \n",
      "\n"
     ]
    },
    {
     "data": {
      "image/png": "[encoded data removed]",
      "text/plain": [
       "<Figure size 432x288 with 1 Axes>"
      ]
     },
     "metadata": {
      "needs_background": "light"
     },
     "output_type": "display_data"
    },
    {
     "name": "stdout",
     "output_type": "stream",
     "text": [
      "\n",
      "\n",
      "\n",
      "Teste de número 520 - pvalue = 0.018335257817031637\n",
      "Grupo 1 (valores): [2, 7, 6, 7, 6, 2, 7, 7, 10, 4]\n",
      "Média do grupo 1: 5.8\n",
      "Grupo 2 (valores): [6, 8, 1, 1, 3, 3, 2, 4, 0, 1]\n",
      "Média do grupo 1: 2.9 \n",
      "\n"
     ]
    },
    {
     "data": {
      "image/png": "[encoded data removed]",
      "text/plain": [
       "<Figure size 432x288 with 1 Axes>"
      ]
     },
     "metadata": {
      "needs_background": "light"
     },
     "output_type": "display_data"
    },
    {
     "name": "stdout",
     "output_type": "stream",
     "text": [
      "\n",
      "\n",
      "\n",
      "Teste de número 537 - pvalue = 0.04736076157247676\n",
      "Grupo 1 (valores): [2, 8, 6, 3, 6, 3, 7, 6, 3, 1]\n",
      "Média do grupo 1: 4.5\n",
      "Grupo 2 (valores): [14, 10, 6, 2, 2, 6, 11, 11, 8, 6]\n",
      "Média do grupo 1: 7.6 \n",
      "\n"
     ]
    },
    {
     "data": {
      "image/png": "[encoded data removed]",
      "text/plain": [
       "<Figure size 432x288 with 1 Axes>"
      ]
     },
     "metadata": {
      "needs_background": "light"
     },
     "output_type": "display_data"
    },
    {
     "name": "stdout",
     "output_type": "stream",
     "text": [
      "\n",
      "\n",
      "\n",
      "Teste de número 541 - pvalue = 0.011659876117390786\n",
      "Grupo 1 (valores): [14, 10, 6, 2, 2, 6, 11, 11, 8, 6]\n",
      "Média do grupo 1: 7.6\n",
      "Grupo 2 (valores): [1, 0, 3, 8, 2, 0, 8, 6, 0, 3]\n",
      "Média do grupo 1: 3.1 \n",
      "\n"
     ]
    },
    {
     "data": {
      "image/png": "[encoded data removed]",
      "text/plain": [
       "<Figure size 432x288 with 1 Axes>"
      ]
     },
     "metadata": {
      "needs_background": "light"
     },
     "output_type": "display_data"
    },
    {
     "name": "stdout",
     "output_type": "stream",
     "text": [
      "\n",
      "\n",
      "\n",
      "Teste de número 544 - pvalue = 0.02046523507244722\n",
      "Grupo 1 (valores): [2, 3, 5, 0, 5, 0, 1, 3, 4, 4]\n",
      "Média do grupo 1: 2.7\n",
      "Grupo 2 (valores): [6, 6, 1, 6, 4, 7, 7, 4, 10, 2]\n",
      "Média do grupo 1: 5.3 \n",
      "\n"
     ]
    },
    {
     "data": {
      "image/png": "[encoded data removed]",
      "text/plain": [
       "<Figure size 432x288 with 1 Axes>"
      ]
     },
     "metadata": {
      "needs_background": "light"
     },
     "output_type": "display_data"
    },
    {
     "name": "stdout",
     "output_type": "stream",
     "text": [
      "\n",
      "\n",
      "\n",
      "Teste de número 556 - pvalue = 0.04322128285175079\n",
      "Grupo 1 (valores): [14, 10, 1, 14, 8, 1, 6, 6, 2, 2]\n",
      "Média do grupo 1: 6.4\n",
      "Grupo 2 (valores): [2, 3, 5, 0, 5, 0, 1, 3, 4, 4]\n",
      "Média do grupo 1: 2.7 \n",
      "\n"
     ]
    },
    {
     "data": {
      "image/png": "[encoded data removed]",
      "text/plain": [
       "<Figure size 432x288 with 1 Axes>"
      ]
     },
     "metadata": {
      "needs_background": "light"
     },
     "output_type": "display_data"
    },
    {
     "name": "stdout",
     "output_type": "stream",
     "text": [
      "\n",
      "\n",
      "\n",
      "Teste de número 579 - pvalue = 0.026358127341099304\n",
      "Grupo 1 (valores): [4, 2, 1, 4, 0, 10, 0, 4, 1, 1]\n",
      "Média do grupo 1: 2.7\n",
      "Grupo 2 (valores): [6, 3, 2, 6, 1, 5, 11, 8, 11, 11]\n",
      "Média do grupo 1: 6.4 \n",
      "\n"
     ]
    },
    {
     "data": {
      "image/png": "[encoded data removed]",
      "text/plain": [
       "<Figure size 432x288 with 1 Axes>"
      ]
     },
     "metadata": {
      "needs_background": "light"
     },
     "output_type": "display_data"
    },
    {
     "name": "stdout",
     "output_type": "stream",
     "text": [
      "\n",
      "\n",
      "\n",
      "Teste de número 587 - pvalue = 0.03855601097141424\n",
      "Grupo 1 (valores): [10, 10, 2, 14, 10, 1, 8, 0, 5, 6]\n",
      "Média do grupo 1: 6.6\n",
      "Grupo 2 (valores): [6, 8, 1, 1, 3, 3, 2, 4, 0, 1]\n",
      "Média do grupo 1: 2.9 \n",
      "\n"
     ]
    },
    {
     "data": {
      "image/png": "[encoded data removed]",
      "text/plain": [
       "<Figure size 432x288 with 1 Axes>"
      ]
     },
     "metadata": {
      "needs_background": "light"
     },
     "output_type": "display_data"
    },
    {
     "name": "stdout",
     "output_type": "stream",
     "text": [
      "\n",
      "\n",
      "\n",
      "Teste de número 602 - pvalue = 0.004134235015598081\n",
      "Grupo 1 (valores): [0, 2, 1, 6, 4, 1, 1, 8, 3, 1]\n",
      "Média do grupo 1: 2.7\n",
      "Grupo 2 (valores): [14, 10, 6, 2, 2, 6, 11, 11, 8, 6]\n",
      "Média do grupo 1: 7.6 \n",
      "\n"
     ]
    },
    {
     "data": {
      "image/png": "[encoded data removed]",
      "text/plain": [
       "<Figure size 432x288 with 1 Axes>"
      ]
     },
     "metadata": {
      "needs_background": "light"
     },
     "output_type": "display_data"
    },
    {
     "name": "stdout",
     "output_type": "stream",
     "text": [
      "\n",
      "\n",
      "\n",
      "Teste de número 622 - pvalue = 0.024998802314072626\n",
      "Grupo 1 (valores): [3, 3, 2, 2, 0, 10, 2, 6, 8, 2]\n",
      "Média do grupo 1: 3.8\n",
      "Grupo 2 (valores): [0, 6, 8, 10, 8, 8, 11, 3, 10, 11]\n",
      "Média do grupo 1: 7.5 \n",
      "\n"
     ]
    },
    {
     "data": {
      "image/png": "[encoded data removed]",
      "text/plain": [
       "<Figure size 432x288 with 1 Axes>"
      ]
     },
     "metadata": {
      "needs_background": "light"
     },
     "output_type": "display_data"
    },
    {
     "name": "stdout",
     "output_type": "stream",
     "text": [
      "\n",
      "\n",
      "\n",
      "Teste de número 635 - pvalue = 0.030309189424248147\n",
      "Grupo 1 (valores): [1, 1, 5, 1, 1, 4, 3, 2, 0, 3]\n",
      "Média do grupo 1: 2.1\n",
      "Grupo 2 (valores): [0, 1, 6, 11, 5, 5, 11, 1, 4, 10]\n",
      "Média do grupo 1: 5.4 \n",
      "\n"
     ]
    },
    {
     "data": {
      "image/png": "[encoded data removed]",
      "text/plain": [
       "<Figure size 432x288 with 1 Axes>"
      ]
     },
     "metadata": {
      "needs_background": "light"
     },
     "output_type": "display_data"
    },
    {
     "name": "stdout",
     "output_type": "stream",
     "text": [
      "\n",
      "\n",
      "\n",
      "Teste de número 641 - pvalue = 0.017449805750469387\n",
      "Grupo 1 (valores): [6, 6, 10, 8, 2, 14, 10, 3, 4, 4]\n",
      "Média do grupo 1: 6.7\n",
      "Grupo 2 (valores): [4, 2, 1, 4, 0, 10, 0, 4, 1, 1]\n",
      "Média do grupo 1: 2.7 \n",
      "\n"
     ]
    },
    {
     "data": {
      "image/png": "[encoded data removed]",
      "text/plain": [
       "<Figure size 432x288 with 1 Axes>"
      ]
     },
     "metadata": {
      "needs_background": "light"
     },
     "output_type": "display_data"
    },
    {
     "name": "stdout",
     "output_type": "stream",
     "text": [
      "\n",
      "\n",
      "\n",
      "Teste de número 661 - pvalue = 0.03538302259920834\n",
      "Grupo 1 (valores): [4, 10, 2, 1, 3, 5, 1, 1, 2, 10]\n",
      "Média do grupo 1: 3.9\n",
      "Grupo 2 (valores): [0, 6, 8, 10, 8, 8, 11, 3, 10, 11]\n",
      "Média do grupo 1: 7.5 \n",
      "\n"
     ]
    },
    {
     "data": {
      "image/png": "[encoded data removed]",
      "text/plain": [
       "<Figure size 432x288 with 1 Axes>"
      ]
     },
     "metadata": {
      "needs_background": "light"
     },
     "output_type": "display_data"
    },
    {
     "name": "stdout",
     "output_type": "stream",
     "text": [
      "\n",
      "\n",
      "\n",
      "Teste de número 681 - pvalue = 0.030309189424248147\n",
      "Grupo 1 (valores): [0, 1, 6, 11, 5, 5, 11, 1, 4, 10]\n",
      "Média do grupo 1: 5.4\n",
      "Grupo 2 (valores): [1, 1, 5, 1, 1, 4, 3, 2, 0, 3]\n",
      "Média do grupo 1: 2.1 \n",
      "\n"
     ]
    },
    {
     "data": {
      "image/png": "[encoded data removed]",
      "text/plain": [
       "<Figure size 432x288 with 1 Axes>"
      ]
     },
     "metadata": {
      "needs_background": "light"
     },
     "output_type": "display_data"
    },
    {
     "name": "stdout",
     "output_type": "stream",
     "text": [
      "\n",
      "\n",
      "\n",
      "Teste de número 698 - pvalue = 0.009513352560231777\n",
      "Grupo 1 (valores): [0, 2, 1, 6, 4, 1, 1, 8, 3, 1]\n",
      "Média do grupo 1: 2.7\n",
      "Grupo 2 (valores): [4, 6, 1, 1, 8, 10, 10, 10, 8, 10]\n",
      "Média do grupo 1: 6.8 \n",
      "\n"
     ]
    },
    {
     "data": {
      "image/png": "[encoded data removed]",
      "text/plain": [
       "<Figure size 432x288 with 1 Axes>"
      ]
     },
     "metadata": {
      "needs_background": "light"
     },
     "output_type": "display_data"
    },
    {
     "name": "stdout",
     "output_type": "stream",
     "text": [
      "\n",
      "\n",
      "\n",
      "Teste de número 741 - pvalue = 0.0054419787677991525\n",
      "Grupo 1 (valores): [2, 3, 5, 0, 5, 0, 1, 3, 4, 4]\n",
      "Média do grupo 1: 2.7\n",
      "Grupo 2 (valores): [4, 6, 1, 1, 8, 10, 10, 10, 8, 10]\n",
      "Média do grupo 1: 6.8 \n",
      "\n"
     ]
    },
    {
     "data": {
      "image/png": "[encoded data removed]",
      "text/plain": [
       "<Figure size 432x288 with 1 Axes>"
      ]
     },
     "metadata": {
      "needs_background": "light"
     },
     "output_type": "display_data"
    },
    {
     "name": "stdout",
     "output_type": "stream",
     "text": [
      "\n",
      "\n",
      "\n",
      "Teste de número 762 - pvalue = 0.04379814539861487\n",
      "Grupo 1 (valores): [3, 3, 2, 2, 0, 10, 2, 6, 8, 2]\n",
      "Média do grupo 1: 3.8\n",
      "Grupo 2 (valores): [8, 4, 8, 6, 5, 8, 1, 14, 6, 11]\n",
      "Média do grupo 1: 7.1 \n",
      "\n"
     ]
    },
    {
     "data": {
      "image/png": "[encoded data removed]",
      "text/plain": [
       "<Figure size 432x288 with 1 Axes>"
      ]
     },
     "metadata": {
      "needs_background": "light"
     },
     "output_type": "display_data"
    },
    {
     "name": "stdout",
     "output_type": "stream",
     "text": [
      "\n",
      "\n",
      "\n",
      "Teste de número 798 - pvalue = 0.04641258312661127\n",
      "Grupo 1 (valores): [4, 4, 4, 7, 6, 4, 5, 6, 11, 6]\n",
      "Média do grupo 1: 5.7\n",
      "Grupo 2 (valores): [1, 0, 3, 8, 2, 0, 8, 6, 0, 3]\n",
      "Média do grupo 1: 3.1 \n",
      "\n"
     ]
    },
    {
     "data": {
      "image/png": "[encoded data removed]",
      "text/plain": [
       "<Figure size 432x288 with 1 Axes>"
      ]
     },
     "metadata": {
      "needs_background": "light"
     },
     "output_type": "display_data"
    },
    {
     "name": "stdout",
     "output_type": "stream",
     "text": [
      "\n",
      "\n",
      "\n",
      "Teste de número 801 - pvalue = 0.009140744679920473\n",
      "Grupo 1 (valores): [1, 1, 5, 1, 1, 4, 3, 2, 0, 3]\n",
      "Média do grupo 1: 2.1\n",
      "Grupo 2 (valores): [1, 6, 8, 6, 14, 4, 1, 6, 6, 6]\n",
      "Média do grupo 1: 5.8 \n",
      "\n"
     ]
    },
    {
     "data": {
      "image/png": "[encoded data removed]",
      "text/plain": [
       "<Figure size 432x288 with 1 Axes>"
      ]
     },
     "metadata": {
      "needs_background": "light"
     },
     "output_type": "display_data"
    },
    {
     "name": "stdout",
     "output_type": "stream",
     "text": [
      "\n",
      "\n",
      "\n",
      "Teste de número 814 - pvalue = 0.04182200864268925\n",
      "Grupo 1 (valores): [6, 2, 8, 10, 2, 11, 10, 4, 6, 1]\n",
      "Média do grupo 1: 6.0\n",
      "Grupo 2 (valores): [4, 2, 1, 4, 0, 10, 0, 4, 1, 1]\n",
      "Média do grupo 1: 2.7 \n",
      "\n"
     ]
    },
    {
     "data": {
      "image/png": "[encoded data removed]",
      "text/plain": [
       "<Figure size 432x288 with 1 Axes>"
      ]
     },
     "metadata": {
      "needs_background": "light"
     },
     "output_type": "display_data"
    },
    {
     "name": "stdout",
     "output_type": "stream",
     "text": [
      "\n",
      "\n",
      "\n",
      "Teste de número 829 - pvalue = 0.017979300768823234\n",
      "Grupo 1 (valores): [4, 3, 6, 8, 3, 1, 1, 3, 6, 1]\n",
      "Média do grupo 1: 3.6\n",
      "Grupo 2 (valores): [8, 11, 7, 8, 5, 4, 1, 7, 6, 11]\n",
      "Média do grupo 1: 6.8 \n",
      "\n"
     ]
    },
    {
     "data": {
      "image/png": "[encoded data removed]",
      "text/plain": [
       "<Figure size 432x288 with 1 Axes>"
      ]
     },
     "metadata": {
      "needs_background": "light"
     },
     "output_type": "display_data"
    },
    {
     "name": "stdout",
     "output_type": "stream",
     "text": [
      "\n",
      "\n",
      "\n",
      "Teste de número 831 - pvalue = 0.04641258312661127\n",
      "Grupo 1 (valores): [1, 0, 3, 8, 2, 0, 8, 6, 0, 3]\n",
      "Média do grupo 1: 3.1\n",
      "Grupo 2 (valores): [4, 4, 4, 7, 6, 4, 5, 6, 11, 6]\n",
      "Média do grupo 1: 5.7 \n",
      "\n"
     ]
    },
    {
     "data": {
      "image/png": "[encoded data removed]",
      "text/plain": [
       "<Figure size 432x288 with 1 Axes>"
      ]
     },
     "metadata": {
      "needs_background": "light"
     },
     "output_type": "display_data"
    },
    {
     "name": "stdout",
     "output_type": "stream",
     "text": [
      "\n",
      "\n",
      "\n",
      "Teste de número 838 - pvalue = 0.042260584819585674\n",
      "Grupo 1 (valores): [4, 2, 1, 4, 0, 10, 0, 4, 1, 1]\n",
      "Média do grupo 1: 2.7\n",
      "Grupo 2 (valores): [6, 6, 6, 6, 4, 1, 3, 8, 6, 6]\n",
      "Média do grupo 1: 5.2 \n",
      "\n"
     ]
    },
    {
     "data": {
      "image/png": "[encoded data removed]",
      "text/plain": [
       "<Figure size 432x288 with 1 Axes>"
      ]
     },
     "metadata": {
      "needs_background": "light"
     },
     "output_type": "display_data"
    },
    {
     "name": "stdout",
     "output_type": "stream",
     "text": [
      "\n",
      "\n",
      "\n",
      "Teste de número 876 - pvalue = 0.04783060080891556\n",
      "Grupo 1 (valores): [3, 3, 6, 6, 6, 3, 7, 8, 8, 7]\n",
      "Média do grupo 1: 5.7\n",
      "Grupo 2 (valores): [1, 1, 1, 8, 1, 3, 3, 5, 6, 6]\n",
      "Média do grupo 1: 3.5 \n",
      "\n"
     ]
    },
    {
     "data": {
      "image/png": "[encoded data removed]",
      "text/plain": [
       "<Figure size 432x288 with 1 Axes>"
      ]
     },
     "metadata": {
      "needs_background": "light"
     },
     "output_type": "display_data"
    },
    {
     "name": "stdout",
     "output_type": "stream",
     "text": [
      "\n",
      "\n",
      "\n",
      "Teste de número 878 - pvalue = 0.006545952000089061\n",
      "Grupo 1 (valores): [6, 2, 8, 10, 2, 11, 10, 4, 6, 1]\n",
      "Média do grupo 1: 6.0\n",
      "Grupo 2 (valores): [1, 1, 5, 1, 1, 4, 3, 2, 0, 3]\n",
      "Média do grupo 1: 2.1 \n",
      "\n"
     ]
    },
    {
     "data": {
      "image/png": "[encoded data removed]",
      "text/plain": [
       "<Figure size 432x288 with 1 Axes>"
      ]
     },
     "metadata": {
      "needs_background": "light"
     },
     "output_type": "display_data"
    },
    {
     "name": "stdout",
     "output_type": "stream",
     "text": [
      "\n",
      "\n",
      "\n",
      "Teste de número 881 - pvalue = 0.004860675071538956\n",
      "Grupo 1 (valores): [2, 6, 11, 3, 3, 3, 8, 4, 10, 11]\n",
      "Média do grupo 1: 6.1\n",
      "Grupo 2 (valores): [1, 1, 5, 1, 1, 4, 3, 2, 0, 3]\n",
      "Média do grupo 1: 2.1 \n",
      "\n"
     ]
    },
    {
     "data": {
      "image/png": "[encoded data removed]",
      "text/plain": [
       "<Figure size 432x288 with 1 Axes>"
      ]
     },
     "metadata": {
      "needs_background": "light"
     },
     "output_type": "display_data"
    },
    {
     "name": "stdout",
     "output_type": "stream",
     "text": [
      "\n",
      "\n",
      "\n",
      "Teste de número 903 - pvalue = 0.04138649323506447\n",
      "Grupo 1 (valores): [1, 7, 3, 1, 8, 14, 8, 7, 4, 0]\n",
      "Média do grupo 1: 5.3\n",
      "Grupo 2 (valores): [1, 1, 5, 1, 1, 4, 3, 2, 0, 3]\n",
      "Média do grupo 1: 2.1 \n",
      "\n"
     ]
    },
    {
     "data": {
      "image/png": "[encoded data removed]",
      "text/plain": [
       "<Figure size 432x288 with 1 Axes>"
      ]
     },
     "metadata": {
      "needs_background": "light"
     },
     "output_type": "display_data"
    },
    {
     "name": "stdout",
     "output_type": "stream",
     "text": [
      "\n",
      "\n",
      "\n",
      "Teste de número 912 - pvalue = 0.015343323833682107\n",
      "Grupo 1 (valores): [4, 6, 1, 0, 7, 2, 6, 0, 1, 6]\n",
      "Média do grupo 1: 3.3\n",
      "Grupo 2 (valores): [8, 11, 7, 8, 5, 4, 1, 7, 6, 11]\n",
      "Média do grupo 1: 6.8 \n",
      "\n"
     ]
    },
    {
     "data": {
      "image/png": "[encoded data removed]",
      "text/plain": [
       "<Figure size 432x288 with 1 Axes>"
      ]
     },
     "metadata": {
      "needs_background": "light"
     },
     "output_type": "display_data"
    },
    {
     "name": "stdout",
     "output_type": "stream",
     "text": [
      "\n",
      "\n",
      "\n",
      "Teste de número 939 - pvalue = 0.006056246693148016\n",
      "Grupo 1 (valores): [8, 1, 7, 8, 6, 7, 7, 1, 14, 3]\n",
      "Média do grupo 1: 6.2\n",
      "Grupo 2 (valores): [1, 1, 5, 1, 1, 4, 3, 2, 0, 3]\n",
      "Média do grupo 1: 2.1 \n",
      "\n"
     ]
    },
    {
     "data": {
      "image/png": "[encoded data removed]",
      "text/plain": [
       "<Figure size 432x288 with 1 Axes>"
      ]
     },
     "metadata": {
      "needs_background": "light"
     },
     "output_type": "display_data"
    },
    {
     "name": "stdout",
     "output_type": "stream",
     "text": [
      "\n",
      "\n",
      "\n",
      "Teste de número 949 - pvalue = 0.005896730549636542\n",
      "Grupo 1 (valores): [8, 11, 7, 8, 5, 4, 1, 7, 6, 11]\n",
      "Média do grupo 1: 6.8\n",
      "Grupo 2 (valores): [6, 8, 1, 1, 3, 3, 2, 4, 0, 1]\n",
      "Média do grupo 1: 2.9 \n",
      "\n"
     ]
    },
    {
     "data": {
      "image/png": "[encoded data removed]",
      "text/plain": [
       "<Figure size 432x288 with 1 Axes>"
      ]
     },
     "metadata": {
      "needs_background": "light"
     },
     "output_type": "display_data"
    },
    {
     "name": "stdout",
     "output_type": "stream",
     "text": [
      "\n",
      "\n",
      "\n",
      "Teste de número 971 - pvalue = 0.04201942081246433\n",
      "Grupo 1 (valores): [6, 6, 10, 8, 2, 14, 10, 3, 4, 4]\n",
      "Média do grupo 1: 6.7\n",
      "Grupo 2 (valores): [4, 3, 6, 8, 3, 1, 1, 3, 6, 1]\n",
      "Média do grupo 1: 3.6 \n",
      "\n"
     ]
    },
    {
     "data": {
      "image/png": "[encoded data removed]",
      "text/plain": [
       "<Figure size 432x288 with 1 Axes>"
      ]
     },
     "metadata": {
      "needs_background": "light"
     },
     "output_type": "display_data"
    },
    {
     "name": "stdout",
     "output_type": "stream",
     "text": [
      "\n",
      "\n",
      "\n",
      "Teste de número 974 - pvalue = 0.026358127341099304\n",
      "Grupo 1 (valores): [6, 3, 2, 6, 1, 5, 11, 8, 11, 11]\n",
      "Média do grupo 1: 6.4\n",
      "Grupo 2 (valores): [4, 2, 1, 4, 0, 10, 0, 4, 1, 1]\n",
      "Média do grupo 1: 2.7 \n",
      "\n"
     ]
    },
    {
     "data": {
      "image/png": "[encoded data removed]",
      "text/plain": [
       "<Figure size 432x288 with 1 Axes>"
      ]
     },
     "metadata": {
      "needs_background": "light"
     },
     "output_type": "display_data"
    },
    {
     "name": "stdout",
     "output_type": "stream",
     "text": [
      "\n",
      "\n",
      "\n",
      "Teste de número 975 - pvalue = 0.013336425110618024\n",
      "Grupo 1 (valores): [14, 10, 6, 2, 2, 6, 11, 11, 8, 6]\n",
      "Média do grupo 1: 7.6\n",
      "Grupo 2 (valores): [1, 1, 1, 8, 1, 3, 3, 5, 6, 6]\n",
      "Média do grupo 1: 3.5 \n",
      "\n"
     ]
    },
    {
     "data": {
      "image/png": "[encoded data removed]",
      "text/plain": [
       "<Figure size 432x288 with 1 Axes>"
      ]
     },
     "metadata": {
      "needs_background": "light"
     },
     "output_type": "display_data"
    },
    {
     "name": "stdout",
     "output_type": "stream",
     "text": [
      "\n",
      "\n",
      "\n",
      "Teste de número 985 - pvalue = 0.0311535127849007\n",
      "Grupo 1 (valores): [0, 11, 2, 6, 2, 3, 2, 2, 8, 1]\n",
      "Média do grupo 1: 3.7\n",
      "Grupo 2 (valores): [14, 10, 6, 2, 2, 6, 11, 11, 8, 6]\n",
      "Média do grupo 1: 7.6 \n",
      "\n"
     ]
    },
    {
     "data": {
      "image/png": "[encoded data removed]",
      "text/plain": [
       "<Figure size 432x288 with 1 Axes>"
      ]
     },
     "metadata": {
      "needs_background": "light"
     },
     "output_type": "display_data"
    },
    {
     "name": "stdout",
     "output_type": "stream",
     "text": [
      "\n",
      "\n",
      "\n",
      "Dos 1000 testes realizados, 52 obtiveram diferença significativa pelo teste T\n"
     ]
    }
   ],
   "source": [
    "lista_maior_x = []\n",
    "lista_maior_y = []\n",
    "contador = 0\n",
    "for etapa in range(1000):\n",
    "    lista_maior_x.append(choices(lista_q1_entries, k = 1))\n",
    "    lista_maior_y.append(choices(lista_q1_entries, k = 1))\n",
    "    contador += 1\n",
    "# print(lista_maior_x)\n",
    "# print(lista_maior_y)\n",
    "contador_2 = 0\n",
    "contador_pval = 0\n",
    "while contador_2 < len(lista_maior_x):\n",
    "    sat, p_val = tt(lista_maior_x[contador_2][0], lista_maior_y[contador_2][0])\n",
    "    # print(sat, p_val)\n",
    "    if p_val < 0.05:\n",
    "        print(f'Teste de número {contador_2} - pvalue = {p_val}')\n",
    "        contador_pval += 1\n",
    "        print(f'''Grupo 1 (valores): {lista_maior_x[contador_2][0]}''')\n",
    "        print(f'Média do grupo 1: {np.mean(lista_maior_x[contador_2][0])}')\n",
    "        print(f'''Grupo 2 (valores): {lista_maior_y[contador_2][0]}''')\n",
    "        print(f'Média do grupo 1: {np.mean(lista_maior_y[contador_2][0])} \\n')\n",
    "        grupos_grafico = np.array(['Grupo 1', 'Grupo 2'])\n",
    "        medias = [np.mean(lista_maior_x[contador_2][0]), np.mean(lista_maior_y[contador_2][0])]\n",
    "        plt.bar(grupos_grafico, medias, color = 'red')\n",
    "        plt.show()\n",
    "        print('\\n'*2)\n",
    "    contador_2 += 1 \n",
    "print(f'Dos {len(lista_maior_x)} testes realizados, {contador_pval} obtiveram diferença significativa pelo teste T')"
   ]
  }
 ],
 "metadata": {
  "kernelspec": {
   "display_name": "Python 3",
   "language": "python",
   "name": "python3"
  },
  "language_info": {
   "codemirror_mode": {
    "name": "ipython",
    "version": 3
   },
   "file_extension": ".py",
   "mimetype": "text/x-python",
   "name": "python",
   "nbconvert_exporter": "python",
   "pygments_lexer": "ipython3",
   "version": "3.8.5"
  }
 },
 "nbformat": 4,
 "nbformat_minor": 4
}
